{
 "cells": [
  {
   "cell_type": "markdown",
   "id": "90d3d390",
   "metadata": {},
   "source": [
    "# Welcome to the WSID (What Should I Do?) ChatBot\n",
    "\n",
    "### - This ChatBot helps you find things to do when you are bored, hungry, lonely, or anxious\n",
    "\n",
    "### - If you let the ChatBot know you are hungry, it will ask you if you want to eat in or out and react by giving you a randomly generated response from its lists of possible outputs for the given situation\n",
    "\n",
    "### - Otherwise, if you are bored, lonely, or anxious, it will give you a randomly generated recommendation, which is also from its lists possible outputs for the given situation\n",
    "\n",
    "### - As an added bonus, the ChatBot can also learn new greetings and append those greetings to its acceptable input lists for the initial greeting situation, and because of this, the ChatBot requires a Greeting Input at the beginning. If it doesn't get this greeting, it will ask you for a new greeting for it to learn"
   ]
  },
  {
   "cell_type": "code",
   "execution_count": null,
   "id": "f9dc81b0",
   "metadata": {},
   "outputs": [],
   "source": [
    "# Import necessary functions along with test_functions:\n",
    "\n",
    "import chatbot_module.functions as func"
   ]
  },
  {
   "cell_type": "code",
   "execution_count": null,
   "id": "5a5d8d4a",
   "metadata": {},
   "outputs": [],
   "source": [
    "# Check to see if functions are running well:\n",
    "!pytest"
   ]
  },
  {
   "cell_type": "markdown",
   "id": "662bb003",
   "metadata": {},
   "source": [
    "# Inputs the WSID bot will accept as greeting\n",
    "\n",
    "#### - Use this code to see acceptable GREETINGS_IN inputs:\n",
    "#### - Here's a demonstration of accessing acceptable first inputs\n",
    "func.GREETINGS_IN\n",
    "\n",
    "['hello',\n",
    " 'hi',\n",
    " 'hey',\n",
    " 'hola',\n",
    " 'welcome',\n",
    " 'bonjour',\n",
    " 'greetings',\n",
    " 'what',\n",
    " 'should',\n",
    " 'I',\n",
    " 'do',\n",
    " '?']"
   ]
  },
  {
   "cell_type": "code",
   "execution_count": null,
   "id": "8325fd0d",
   "metadata": {},
   "outputs": [],
   "source": [
    "# Try it:\n",
    "func.GREETINGS_IN"
   ]
  },
  {
   "cell_type": "markdown",
   "id": "8301198e",
   "metadata": {},
   "source": [
    "# Activate chatbot\n",
    "\n",
    "func.what_should_i_do()\n",
    "\n",
    "\n",
    "# if user inputs quit, chat will end\n",
    "### - activate chatbot\n",
    "func.what_should_i_do()\n",
    "\n",
    "OUTPUT: Give me a greeting, if you dare\n",
    "\n",
    "INPUT: quit"
   ]
  },
  {
   "cell_type": "code",
   "execution_count": null,
   "id": "2da04c03",
   "metadata": {},
   "outputs": [],
   "source": [
    "# Try it:\n",
    "func.what_should_i_do()"
   ]
  },
  {
   "cell_type": "markdown",
   "id": "3a0df19f",
   "metadata": {},
   "source": [
    "# Learning Greetings Interaction:\n",
    "\n",
    "### - activate chatbot\n",
    "func.what_should_i_do()\n",
    "\n",
    "### - if the function is given no Greeting as a 1st input, \n",
    "### - then it will ask for a greeting and append it to GREETINGS_IN\n",
    "### - this way, the chatbot can learn new greetings\n",
    "\n",
    "\n",
    "OUTPUT: Give me a greeting, if you dare\n",
    "\n",
    "INPUT: no\n",
    "\n",
    "\n",
    "OUTPUT: Please input a greeting\n",
    "\n",
    "INPUT: howdy\n",
    "\n",
    "\n",
    "OUTPUT: Are you hungry, are you bored, are you anxious, are you lonely?\n",
    "\n",
    "INPUT: hungry\n",
    "\n",
    "\n",
    "OUTPUT: Looks like you are looking for a place to eat. Would you rather eat out or eat in?\n",
    "\n",
    "INPUT: in\n",
    "\n",
    "OUTPUT: Pick one of the recipes from the following website to cook:https://www.countryliving.com/food-drinks/g648/quick-easy-dinner-recipes/?utm_source=google&utm_medium=cpc&utm_campaign=arb_ga_clv_d_bm_prog_org_us_g648&gclid=CjwKCAiAvJarBhA1EiwAGgZl0IBB6DxVXnzah9_ADYDS5SX8Ii0lF0L3XFfbsr9w2o0ojMePWrg6ehoCCigQAvD_BwE/t Pick the recipe with the following number: 66\n",
    "\n",
    "### * Side Note: the number 66 at the end here is randomly generated; the webiste has 101 recipes number can be anything from 1-101"
   ]
  },
  {
   "cell_type": "code",
   "execution_count": null,
   "id": "0d8ad09b",
   "metadata": {},
   "outputs": [],
   "source": [
    "# Try it:\n",
    "func.what_should_i_do()"
   ]
  },
  {
   "cell_type": "markdown",
   "id": "85ae9a72",
   "metadata": {},
   "source": [
    "### Use this Code and notice how the function appended the new greeting\n",
    "func.GREETINGS_IN\n",
    "\n",
    "['hello', 'hi', 'hey', 'hola', 'welcome', 'bonjour', 'greetings', 'what', 'should', 'I', 'do', '?', howdy]"
   ]
  },
  {
   "cell_type": "code",
   "execution_count": null,
   "id": "64fe2533",
   "metadata": {},
   "outputs": [],
   "source": [
    "# Try it:\n",
    "func.GREETINGS_IN"
   ]
  },
  {
   "cell_type": "markdown",
   "id": "8778756f",
   "metadata": {},
   "source": [
    "# Example of Interaction Resulting in Hungry Path (Eating Out)\n",
    "\n",
    "OUTPUT: Give me a greeting, if you dare \n",
    "\n",
    "INPUT: howdy\n",
    "### *Side Note: howdy is now accepted as another possible greeting\n",
    "\n",
    "OUTPUT: Are you hungry, are you bored, are you anxious, are you lonely?\n",
    "\n",
    "INPUT: hungry\n",
    "\n",
    "OUTPUT: Looks like you are looking for a place to eat. Would you rather eat out or eat in?\n",
    "\n",
    "INPUT: out\n",
    "\n",
    "OUTPUT: Eat at the most convenient restaraunt with the following type: Hibachi \n",
    "### *Side Note: restaraunt type is randomly generated"
   ]
  },
  {
   "cell_type": "code",
   "execution_count": null,
   "id": "7255bc9d",
   "metadata": {},
   "outputs": [],
   "source": [
    "# Try it:\n",
    "func.what_should_i_do()"
   ]
  },
  {
   "cell_type": "markdown",
   "id": "d3f3dbab",
   "metadata": {},
   "source": [
    "# Example of Interaction Resulting in Alternate Hungry Path (Eating In)\n",
    "OUTPUT: Give me a greeting, if you dare \n",
    "\n",
    "INPUT: hello\n",
    "\n",
    "OUTPUT: Are you hungry, are you bored, are you anxious, are you lonely?\n",
    "\n",
    "INPUT: HUNGRY \n",
    "### *Side Note: because of the prepare_text function, you can input capital letters and punctuation with no problem\n",
    "\n",
    "OUTPUT: Looks like you are looking for a place to eat. Would you rather eat out or eat in?\n",
    "\n",
    "INPUT: eat in\n",
    "\n",
    "OUTPUT: Pick one of the recipes from the following website to cook:https://www.countryliving.com/food-drinks/g648/quick-easy-dinner-recipes/?utm_source=google&utm_medium=cpc&utm_campaign=arb_ga_clv_d_bm_prog_org_us_g648&gclid=CjwKCAiAvJarBhA1EiwAGgZl0IBB6DxVXnzah9_ADYDS5SX8Ii0lF0L3XFfbsr9w2o0ojMePWrg6ehoCCigQAvD_BwE/t Pick the recipe with the following number: 84 "
   ]
  },
  {
   "cell_type": "code",
   "execution_count": null,
   "id": "d8c20ac5",
   "metadata": {},
   "outputs": [],
   "source": [
    "# Try it:\n",
    "func.what_should_i_do()"
   ]
  },
  {
   "cell_type": "markdown",
   "id": "a774e45e",
   "metadata": {},
   "source": [
    "# Example of Interaction Resulting in Lonely Path (Showcase of Input Flexibility)\n",
    "OUTPUT: Give me a greeting, if you dare \n",
    "\n",
    "INPUT: HELLO\n",
    "\n",
    "OUTPUT: Are you hungry, are you bored, are you anxious, are you lonely?\n",
    "\n",
    "INPUT: I am feeling alone \n",
    "### - *Side Note: the lists allow for flexibility in inputs; like alone instead of lonely\n",
    "\n",
    "OUTPUT: Do or try to learn the following activity in public, in the same place, for at least three days in a row: meditate\n",
    "\n",
    "### *Side Note: Activity after \":\" is randomly generated"
   ]
  },
  {
   "cell_type": "markdown",
   "id": "7114d9c1",
   "metadata": {},
   "source": [
    "## - if you want to see what other inputs that are acceptable for given situations, use the following syntax PATH(capitalized)_IN(or OUT to see out list possibilities)_1 (Hungry, which is the only exception, has 2 and 3 for in and out subpaths respecitively)\n",
    "#### For Example: \n",
    "\n",
    "If you type in: func.LONELY_IN_1\n",
    "#### You Get:\n",
    "\n",
    "['lonely', 'last', 'alone'] --> acceptable inputs to prompt lonely path"
   ]
  },
  {
   "cell_type": "code",
   "execution_count": null,
   "id": "ecb9fed3",
   "metadata": {},
   "outputs": [],
   "source": [
    "# These are acceptable inputs to prompt lonely path:\n",
    "func.LONELY_IN_1"
   ]
  },
  {
   "cell_type": "code",
   "execution_count": null,
   "id": "c449c3dd",
   "metadata": {},
   "outputs": [],
   "source": [
    "# the hungry path is a special case \n",
    "# because of the eating in and eating out possibility\n",
    "# This code returns acceptable inputs to prompt hungry path \n",
    "func.HUNGRY_IN_1"
   ]
  },
  {
   "cell_type": "code",
   "execution_count": null,
   "id": "53d26a6f",
   "metadata": {},
   "outputs": [],
   "source": [
    "# eating in acceptable input\n",
    "func.HUNGRY_IN_2"
   ]
  },
  {
   "cell_type": "code",
   "execution_count": null,
   "id": "a025a403",
   "metadata": {},
   "outputs": [],
   "source": [
    "# eating out acceptable input\n",
    "func.HUNGRY_IN_3"
   ]
  },
  {
   "cell_type": "code",
   "execution_count": null,
   "id": "18d0f86d",
   "metadata": {},
   "outputs": [],
   "source": [
    "# Try getting more creative with responses:\n",
    "func.what_should_i_do()"
   ]
  },
  {
   "cell_type": "markdown",
   "id": "3d875770",
   "metadata": {},
   "source": [
    "# Example of Interaction Resulting in Anxious Path\n",
    "OUTPUT: Give me a greeting, if you dare \n",
    "\n",
    "INPUT: hi\n",
    "\n",
    "OUTPUT: Are you hungry, are you bored, are you anxious, are you lonely?\n",
    "\n",
    "INPUT: anxious\n",
    "\n",
    "OUTPUT: Looks like you need a meditation. Do the following activity: stare at and become immersed in 1 thing in nature\n",
    "\n",
    "### Side Note: Activity after \":\" is randomly generated"
   ]
  },
  {
   "cell_type": "code",
   "execution_count": null,
   "id": "e013cdb8",
   "metadata": {},
   "outputs": [],
   "source": [
    "# Try it:\n",
    "func.what_should_i_do()"
   ]
  },
  {
   "cell_type": "markdown",
   "id": "25a34be9",
   "metadata": {},
   "source": [
    "# Example of Interaction Resulting in Bored Path\n",
    "OUTPUT: Give me a greeting, if you dare\n",
    "\n",
    "INPUT: bonjour\n",
    "\n",
    "OUTPUT: Are you hungry, are you bored, are you anxious, are you lonely?\n",
    "\n",
    "INPUT: bored\n",
    "\n",
    "OUTPUT: Travel exactly 1 mile in the following cardinal direction (or go as far as you safely can) and see what's up: East\n",
    "\n",
    "### Side Note: Direction after \":\" is randomly generated"
   ]
  },
  {
   "cell_type": "code",
   "execution_count": null,
   "id": "a849c84c",
   "metadata": {},
   "outputs": [],
   "source": [
    "# Try it:\n",
    "func.what_should_i_do()"
   ]
  },
  {
   "cell_type": "markdown",
   "id": "3deb3e55",
   "metadata": {},
   "source": [
    "Extra Credit Explanation: The first challenge of the project was to consolidate the code I used in the ChatBot Function. At first, I was drowning in conidtional statements (with multiple per path it created a sort of exponential growth of ifs). Then, I discovered the any method --> example use below, which allowed me to quickly filter through the message and give the appropriate out message. \n",
    "    \n",
    "    \n",
    "   Additionally, the learning a new greeting aspect of the project was particularly challenging because it encouraged me to think about loops in a different way from what I had usually done in the course. Usually, only one element of the loop corresponded to a possible input that went through the loop's conditionals. However, because I have a check_greeting function that is running simutaneously to the rest of the loop, I had to make the check_greeting and change_greeting functions' conditionals very specific to avoid unintended use. \n",
    "   \n",
    "   To start, I had to edit the check_greeting function such that it returned None if the message was an acceptable greeting and put this function into the conditional. Then, I had to make the general chatbot function constantly record the inputs and outputs, so I could make the conditionals that prompted the change greeting function even more specific.\n",
    "   \n",
    "   For example, if the outlist had a length of one, that would mean the only thing the chatbot would have said to the user (aside from the initial greeting), is either \"Please input greeting\" or the hungry-lonely-bored question, so if out[0] is \"Please input a greeting\", I, then, would know that I would have to append the next user input to the list of acceptable greetings, which is why my conditional for the change greeting function contains if outs[0] == \"Please input a greeting\". \n",
    "   \n",
    "   Lastly, (still on the change greeting conditional) I don't want the change greeting function to work too early, which is why the len(ins) == 2 is within the conditional, because that would mean the change greeting conditional would work before the user provided the second input, which would prevent me from appending it to the acceptable greetings list."
   ]
  },
  {
   "cell_type": "code",
   "execution_count": null,
   "id": "5f660bae",
   "metadata": {},
   "outputs": [],
   "source": [
    "# try and except is just so the supplemental example doesn't error\n",
    "# it isn't in the real function\n",
    "try:\n",
    "# example use of any method\n",
    "    if any(word in msg for word in HUNGRY_IN_2):\n",
    "                out_msg = random.choice(HUNGRY_OUT_2) + \"/t\" + \" \" + random.choice(HUNGRY_OUT_2_CONT) + str(random.randint(1,101))\n",
    "                outs.append(out_msg)\n",
    "                chat = False\n",
    "\n",
    "    def check_greeting(msg, ins):\n",
    "        \"\"\"checks if first response is greeting \n",
    "\n",
    "        Parameters\n",
    "        ----------\n",
    "        msg: string that user inputted\n",
    "        ins: list of previous inputs\n",
    "\n",
    "        Returns\n",
    "        -------\n",
    "        greet_collect_message : string\n",
    "        string to prompt user to input\n",
    "        greeting\n",
    "\n",
    "        answer: None\n",
    "        if the message is in GREETINGS_IN,\n",
    "        no response need be solicited\n",
    "        \"\"\"\n",
    "\n",
    "        greet_collect_message = \"Please input a greeting\"\n",
    "\n",
    "        # verify first user message is greeting\n",
    "        if len(ins) == 1  and msg not in GREETINGS_IN and msg != \"quit\":\n",
    "            return greet_collect_message\n",
    "\n",
    "        else:\n",
    "            return None\n",
    "\n",
    "    # verify first input is greeting\n",
    "    # if it isn't, ask user for greeting\n",
    "    # record interaction in outs list\n",
    "    # make sure query doesn't repeat the first prompt\n",
    "    if check_greeting(msg, ins) and len(ins) == 1:\n",
    "        out_msg = check_greeting(msg, ins)\n",
    "        outs.append(out_msg)\n",
    "        query = \"\"\n",
    "\n",
    "\n",
    "    # collect user's greeting if it isn't already collected\n",
    "    # prompt user to go to anxious, lonely, hungry, or bored path\n",
    "    # record interaction to out list\n",
    "    if outs[0] == \"Please input a greeting\" and len(ins) == 2 and len(outs) == 1:\n",
    "        change_greeting(ins)\n",
    "        out_msg = random.choice(GREETINGS_OUT)\n",
    "        outs.append(out_msg)\n",
    "        query = \"\"\n",
    "except:\n",
    "    None"
   ]
  },
  {
   "cell_type": "code",
   "execution_count": null,
   "id": "3810a437",
   "metadata": {},
   "outputs": [],
   "source": []
  }
 ],
 "metadata": {
  "kernelspec": {
   "display_name": "Python 3 (ipykernel)",
   "language": "python",
   "name": "python3"
  },
  "language_info": {
   "codemirror_mode": {
    "name": "ipython",
    "version": 3
   },
   "file_extension": ".py",
   "mimetype": "text/x-python",
   "name": "python",
   "nbconvert_exporter": "python",
   "pygments_lexer": "ipython3",
   "version": "3.9.5"
  }
 },
 "nbformat": 4,
 "nbformat_minor": 5
}
